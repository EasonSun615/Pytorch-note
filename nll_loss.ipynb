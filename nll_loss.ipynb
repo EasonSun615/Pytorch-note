{
 "cells": [
  {
   "cell_type": "markdown",
   "metadata": {},
   "source": [
    "# Pytroch 损失函数 NLLLoss & CrossEntropyLoss详解"
   ]
  },
  {
   "cell_type": "markdown",
   "metadata": {},
   "source": [
    "# 1. NLLLoss"
   ]
  },
  {
   "cell_type": "code",
   "execution_count": 5,
   "metadata": {},
   "outputs": [],
   "source": [
    "import torch\n",
    "import torch.nn as nn"
   ]
  },
  {
   "cell_type": "code",
   "execution_count": 4,
   "metadata": {},
   "outputs": [
    {
     "data": {
      "text/plain": [
       "tensor([[-0.8233, -1.2627, -0.2428],\n",
       "        [-1.2468,  0.0922,  0.6837],\n",
       "        [-1.2785, -0.7575, -0.5185],\n",
       "        [ 0.4479,  0.2094, -1.6592]])"
      ]
     },
     "execution_count": 4,
     "metadata": {},
     "output_type": "execute_result"
    }
   ],
   "source": [
    "# 假设输入m个样本，分成F类， 所以最后一个隐藏层含有F个特征，这里m=4, F =3, 举个例子：\n",
    "input1 = torch.randn(4, 3)\n",
    "input1"
   ]
  },
  {
   "cell_type": "code",
   "execution_count": 6,
   "metadata": {},
   "outputs": [
    {
     "data": {
      "text/plain": [
       "tensor([[0.2914, 0.1878, 0.5208],\n",
       "        [0.0854, 0.3259, 0.5887],\n",
       "        [0.2074, 0.3492, 0.4434],\n",
       "        [0.5237, 0.4126, 0.0637]])"
      ]
     },
     "execution_count": 6,
     "metadata": {},
     "output_type": "execute_result"
    }
   ],
   "source": [
    "# 对每个隐藏层输出做softmax, 可以得到每个样本的概率分布\n",
    "# 这里的dim=1，表示沿着列的方向计算Softmax, 可以看到输出的每一行的和都为1\n",
    "sm = nn.Softmax(dim=1)\n",
    "sm_out = sm(input1)\n",
    "sm_out"
   ]
  },
  {
   "cell_type": "code",
   "execution_count": 7,
   "metadata": {
    "scrolled": true
   },
   "outputs": [
    {
     "data": {
      "text/plain": [
       "tensor([[-1.2329, -1.6724, -0.6525],\n",
       "        [-2.4603, -1.1213, -0.5298],\n",
       "        [-1.5731, -1.0522, -0.8132],\n",
       "        [-0.6468, -0.8853, -2.7539]])"
      ]
     },
     "execution_count": 7,
     "metadata": {},
     "output_type": "execute_result"
    }
   ],
   "source": [
    "# 然后对Softmax的结果去自然对数, Softmax后的数值都在0~1之间，所以ln之后值域是负无穷到0\n",
    "sm_out = torch.log(sm_out)\n",
    "sm_out"
   ]
  },
  {
   "cell_type": "code",
   "execution_count": 8,
   "metadata": {},
   "outputs": [
    {
     "data": {
      "text/plain": [
       "1.20295"
      ]
     },
     "execution_count": 8,
     "metadata": {},
     "output_type": "execute_result"
    }
   ],
   "source": [
    "# 现在假设我们的label=[2,0,1,0]\n",
    "# 根据标签, 我们取sm_out[0][2], sm_out[1][0], sm_out[2][1], sm_out[3][0], 将他们去掉负号， 再求均值。\n",
    "# 其实就是对每个样本的交叉熵求均值\n",
    "out = (0.6525 + 2.4603 + 1.0522 + 0.6468) / 4\n",
    "out"
   ]
  },
  {
   "cell_type": "code",
   "execution_count": 9,
   "metadata": {},
   "outputs": [
    {
     "data": {
      "text/plain": [
       "tensor(1.2029)"
      ]
     },
     "execution_count": 9,
     "metadata": {},
     "output_type": "execute_result"
    }
   ],
   "source": [
    "# 上面的公式就是NLLLoss损失函数\n",
    "# loss合理性： 如果正确标签对应的那一列的softmax值大的话，那么取了自然对数再取反之后就比较小，那么loss就小。也就是说预测正确的话，loss小\n",
    "#            如果正确标签对应的那一列的softmax值小的话，那么取了自然对数再取反之后就比较大，那么loss就大。也就是说预测错误的话，loss大\n",
    "\n",
    "# 下面使用NLLLoss函数验证一下：\n",
    "loss = nn.NLLLoss()\n",
    "target = torch.tensor([2, 0 ,1, 0])\n",
    "loss(sm_out, target)"
   ]
  },
  {
   "cell_type": "markdown",
   "metadata": {},
   "source": [
    "# 2. CrossEntropyLoss"
   ]
  },
  {
   "cell_type": "code",
   "execution_count": 10,
   "metadata": {},
   "outputs": [
    {
     "data": {
      "text/plain": [
       "tensor(1.2029)"
      ]
     },
     "execution_count": 10,
     "metadata": {},
     "output_type": "execute_result"
    }
   ],
   "source": [
    "# CrossEntropyLoss就是把以上Softmax–Log–NLLLoss合并成一步，我们用刚刚随机出来的input直接验证一下\n",
    "loss2 = nn.CrossEntropyLoss()\n",
    "loss2(input1, target)"
   ]
  }
 ],
 "metadata": {
  "kernelspec": {
   "display_name": "Python [conda env:DDoS-py3.7] *",
   "language": "python",
   "name": "conda-env-DDoS-py3.7-py"
  },
  "language_info": {
   "codemirror_mode": {
    "name": "ipython",
    "version": 3
   },
   "file_extension": ".py",
   "mimetype": "text/x-python",
   "name": "python",
   "nbconvert_exporter": "python",
   "pygments_lexer": "ipython3",
   "version": "3.7.7"
  }
 },
 "nbformat": 4,
 "nbformat_minor": 4
}
